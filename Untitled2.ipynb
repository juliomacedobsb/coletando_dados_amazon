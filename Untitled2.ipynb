{
  "nbformat": 4,
  "nbformat_minor": 0,
  "metadata": {
    "colab": {
      "name": "Untitled2.ipynb",
      "provenance": [],
      "authorship_tag": "ABX9TyMbS6FLmFxQG9c7cOq7kheS",
      "include_colab_link": true
    },
    "kernelspec": {
      "name": "python3",
      "display_name": "Python 3"
    },
    "language_info": {
      "name": "python"
    }
  },
  "cells": [
    {
      "cell_type": "markdown",
      "metadata": {
        "id": "view-in-github",
        "colab_type": "text"
      },
      "source": [
        "<a href=\"https://colab.research.google.com/github/juliomacedobsb/coletando_dados_amazon/blob/main/Untitled2.ipynb\" target=\"_parent\"><img src=\"https://colab.research.google.com/assets/colab-badge.svg\" alt=\"Open In Colab\"/></a>"
      ]
    },
    {
      "cell_type": "markdown",
      "source": [
        "coletando dados da AMAZON"
      ],
      "metadata": {
        "id": "KKUHk539LpYw"
      }
    },
    {
      "cell_type": "code",
      "execution_count": null,
      "metadata": {
        "id": "MyazHwDwK_h0"
      },
      "outputs": [],
      "source": [
        "from bs4 import BeautifulSoup as bs\n",
        "import requests as rq\n",
        "import re"
      ]
    },
    {
      "cell_type": "code",
      "source": [
        "UserHEADERS = ({\"Mozilla/5.0 (X11; Ubuntu; Linux x86_64; rv:101.0) Gecko/20100101 Firefox/101.0\"})\n",
        "projeto_amazon = rq.get(\"https://www.amazon.com.br/Zyyini-port%C3%A1til-polegadas-Bluetooth-port%C3%A1teis/dp/B09Q967X9Y/ref=sr_1_1_sspa?c=ts&keywords=Tablets&qid=1657203549&s=computers&sr=1-1-spons&ts_id=16364762011&ufe=app_do%3Aamzn1.fos.25548f35-0de7-44b3-b28e-0f56f3f96147&psc=1&spLa=ZW5jcnlwdGVkUXVhbGlmaWVyPUExMVZRSThLN1pKTzcyJmVuY3J5cHRlZElkPUEwNDE0MzA5VEJXQ1EzMEVRUExMJmVuY3J5cHRlZEFkSWQ9QTA4ODMwNTcxWDE4QVhHVFcyVjUwJndpZGdldE5hbWU9c3BfYXRmJmFjdGlvbj1jbGlja1JlZGlyZWN0JmRvTm90TG9nQ2xpY2s9dHJ1ZQ==\")\n",
        "amazon = bs(projeto_amazon.content)"
      ],
      "metadata": {
        "id": "2XDp5nAQLD8D"
      },
      "execution_count": null,
      "outputs": []
    },
    {
      "cell_type": "code",
      "source": [
        "produto = amazon.find(id=\"productTitle\").getText().split()\n",
        "valor = amazon.find(class_=\"a-price-whole\").get_text().split()\n",
        "disponibilidade = amazon.find(class_=\"a-size-medium a-color-success\").getText().split()\n",
        "\n",
        "print(\"Nome do produto:\", produto)\n",
        "print(\"valor do produto:\", valor)\n",
        "print(\"disponibilidade:\", disponibilidade)"
      ],
      "metadata": {
        "id": "HZz2EEr4LOZY"
      },
      "execution_count": null,
      "outputs": []
    },
    {
      "cell_type": "markdown",
      "source": [
        ""
      ],
      "metadata": {
        "id": "G_VmbfB2LoTU"
      }
    }
  ]
}